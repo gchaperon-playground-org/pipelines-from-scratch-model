{
 "cells": [
  {
   "cell_type": "code",
   "execution_count": null,
   "id": "0",
   "metadata": {},
   "outputs": [],
   "source": [
    "%load_ext autoreload\n",
    "%autoreload 2"
   ]
  },
  {
   "cell_type": "markdown",
   "id": "1",
   "metadata": {},
   "source": [
    "# Local Execution Example"
   ]
  },
  {
   "cell_type": "markdown",
   "id": "2",
   "metadata": {},
   "source": [
    "## Initialize local runner"
   ]
  },
  {
   "cell_type": "code",
   "execution_count": null,
   "id": "3",
   "metadata": {},
   "outputs": [],
   "source": [
    "import pathlib\n",
    "\n",
    "from kfp import local\n",
    "\n",
    "import pipelines_from_scratch\n",
    "\n",
    "\n",
    "# NOTE: __file__ points to the package __init__.py file\n",
    "REPO_ROOT = pathlib.Path(pipelines_from_scratch.__file__).parents[2]\n",
    "REPO_ROOT\n",
    "\n",
    "\n",
    "local.init(runner=local.DockerRunner(), pipeline_root=REPO_ROOT / \"local_outputs\")"
   ]
  },
  {
   "cell_type": "markdown",
   "id": "4",
   "metadata": {},
   "source": [
    "## Compile components"
   ]
  },
  {
   "cell_type": "code",
   "execution_count": null,
   "id": "5",
   "metadata": {},
   "outputs": [],
   "source": [
    "! kfp component build --component-filepattern \"src/**/*.py\" {REPO_ROOT} --no-push-image"
   ]
  },
  {
   "cell_type": "markdown",
   "id": "6",
   "metadata": {},
   "source": [
    "## Run a single component"
   ]
  },
  {
   "cell_type": "code",
   "execution_count": null,
   "id": "7",
   "metadata": {},
   "outputs": [],
   "source": [
    "import pipelines_from_scratch.components as components\n",
    "\n",
    "\n",
    "task = components.add(a=1, b=2)\n",
    "assert task.output == 3"
   ]
  },
  {
   "cell_type": "markdown",
   "id": "8",
   "metadata": {},
   "source": [
    "## Run a pipeline"
   ]
  },
  {
   "cell_type": "code",
   "execution_count": null,
   "id": "9",
   "metadata": {},
   "outputs": [],
   "source": [
    "from pipelines_from_scratch import pipelines\n",
    "\n",
    "\n",
    "pipeline_task = pipelines.math_pipeline(a=1, b=2, c=3)\n",
    "assert pipeline_task.output == 6"
   ]
  }
 ],
 "metadata": {
  "kernelspec": {
   "display_name": "Python 3 (ipykernel)",
   "language": "python",
   "name": "python3"
  },
  "language_info": {
   "codemirror_mode": {
    "name": "ipython",
    "version": 3
   },
   "file_extension": ".py",
   "mimetype": "text/x-python",
   "name": "python",
   "nbconvert_exporter": "python",
   "pygments_lexer": "ipython3",
   "version": "3.10.14"
  }
 },
 "nbformat": 4,
 "nbformat_minor": 5
}
