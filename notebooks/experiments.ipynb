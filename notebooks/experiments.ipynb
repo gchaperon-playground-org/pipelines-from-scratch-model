{
 "cells": [
  {
   "cell_type": "code",
   "execution_count": null,
   "id": "cc9af1a9-4d65-45b0-93ad-3a5600d468a7",
   "metadata": {},
   "outputs": [],
   "source": [
    "from kfp import local\n",
    "from kfp import dsl"
   ]
  },
  {
   "cell_type": "code",
   "execution_count": null,
   "id": "69d9d221-47f8-476c-8012-005d0abeadc8",
   "metadata": {},
   "outputs": [],
   "source": [
    "import pathlib\n",
    "\n",
    "current = pathlib.Path().resolve()\n",
    "# Find repo root\n",
    "# \"First parent that contains a file called pyproject.toml\"\n",
    "# Fails with StopIteration if no parent contains a file called pyproject.toml\n",
    "REPO_ROOT = next(filter(None, (p if next(p.glob(\"pyproject.toml\"), None) else None for p in [current, *current.parents])))\n",
    "REPO_ROOT"
   ]
  },
  {
   "cell_type": "code",
   "execution_count": null,
   "id": "2f859176-ccac-46e1-81ee-5864de7d898a",
   "metadata": {},
   "outputs": [],
   "source": [
    "local.init(runner=local.DockerRunner(), pipeline_root=REPO_ROOT/\"local_outputs\")"
   ]
  },
  {
   "cell_type": "code",
   "execution_count": null,
   "id": "922fcc37-39e3-4aeb-8493-67c5deb167eb",
   "metadata": {},
   "outputs": [],
   "source": [
    "import pipelines_from_scratch.components as components"
   ]
  },
  {
   "cell_type": "code",
   "execution_count": null,
   "id": "a6cd8cea-b74f-4a15-abe7-836a68823248",
   "metadata": {},
   "outputs": [],
   "source": [
    "task = components.add(a=1, b=2)\n",
    "assert task.output == 3"
   ]
  },
  {
   "cell_type": "code",
   "execution_count": null,
   "id": "784dd085-635f-4781-bbe2-37894dbf4f74",
   "metadata": {},
   "outputs": [],
   "source": [
    "# or run it in a pipeline\n",
    "from pipelines_from_scratch import pipelines\n",
    "\n",
    "pipeline_task = pipelines.math_pipeline(a=1, b=2, c=3)\n",
    "assert pipeline_task.output == 6"
   ]
  }
 ],
 "metadata": {
  "kernelspec": {
   "display_name": "Python 3 (ipykernel)",
   "language": "python",
   "name": "python3"
  },
  "language_info": {
   "codemirror_mode": {
    "name": "ipython",
    "version": 3
   },
   "file_extension": ".py",
   "mimetype": "text/x-python",
   "name": "python",
   "nbconvert_exporter": "python",
   "pygments_lexer": "ipython3",
   "version": "3.10.14"
  }
 },
 "nbformat": 4,
 "nbformat_minor": 5
}
